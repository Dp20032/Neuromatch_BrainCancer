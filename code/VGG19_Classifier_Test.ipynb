{
  "nbformat": 4,
  "nbformat_minor": 0,
  "metadata": {
    "colab": {
      "provenance": [],
      "authorship_tag": "ABX9TyM5Tfi5gPXg3+Os6Micotai",
      "include_colab_link": true
    },
    "kernelspec": {
      "name": "python3",
      "display_name": "Python 3"
    },
    "language_info": {
      "name": "python"
    }
  },
  "cells": [
    {
      "cell_type": "markdown",
      "metadata": {
        "id": "view-in-github",
        "colab_type": "text"
      },
      "source": [
        "<a href=\"https://colab.research.google.com/github/NicholasLeotta99/Neuromatch_BrainCancer/blob/Nick/code/VGG19_Classifier_Test.ipynb\" target=\"_parent\"><img src=\"https://colab.research.google.com/assets/colab-badge.svg\" alt=\"Open In Colab\"/></a>"
      ]
    },
    {
      "cell_type": "code",
      "execution_count": 8,
      "metadata": {
        "id": "na7P0ewdyfg7",
        "cellView": "form"
      },
      "outputs": [],
      "source": [
        "# @title Package Imports\n",
        "import torch\n",
        "import numpy as np\n",
        "import matplotlib.pyplot as plt\n",
        "\n",
        "import torch.nn as nn\n",
        "import torch.optim as optim\n",
        "\n",
        "from torchvision.utils import make_grid\n",
        "import torchvision.transforms as transforms\n",
        "from torchvision.datasets import ImageFolder\n",
        "from torch.utils.data import DataLoader, TensorDataset\n",
        "import torchvision.models as models\n",
        "from torchsummary import summary\n",
        "\n",
        "import os\n",
        "from google.colab import files"
      ]
    },
    {
      "cell_type": "code",
      "source": [
        "# @title Data Loading\n",
        "print('Upload kaggle.json account information to download the dataset:')\n",
        "files.upload()\n",
        "!mkdir -p ~/.kaggle\n",
        "!mv kaggle.json ~/.kaggle/\n",
        "!chmod 600 /root/.kaggle/kaggle.json\n",
        "!kaggle datasets download -d masoudnickparvar/brain-tumor-mri-dataset\n",
        "!unzip -q brain-tumor-mri-dataset.zip"
      ],
      "metadata": {
        "id": "G6yDHTe5yqeZ"
      },
      "execution_count": null,
      "outputs": []
    },
    {
      "cell_type": "code",
      "source": [
        "# @title Loading Model\n",
        "Classifier = models.vgg19(weights='DEFAULT')\n",
        "#Replace the classifying linear network with one with custom number of output classes\n",
        "num_features = Classifier.classifier[-1].in_features\n",
        "Classifier.classifier[-1] = nn.Linear(num_features, 4)\n",
        "summary(Classifier, (3, 256, 256))"
      ],
      "metadata": {
        "colab": {
          "base_uri": "https://localhost:8080/"
        },
        "id": "YoHoOxXWrVyr",
        "outputId": "8362f7ce-fe63-4fed-8093-8e082ec9732b"
      },
      "execution_count": 14,
      "outputs": [
        {
          "output_type": "stream",
          "name": "stdout",
          "text": [
            "----------------------------------------------------------------\n",
            "        Layer (type)               Output Shape         Param #\n",
            "================================================================\n",
            "            Conv2d-1         [-1, 64, 256, 256]           1,792\n",
            "              ReLU-2         [-1, 64, 256, 256]               0\n",
            "            Conv2d-3         [-1, 64, 256, 256]          36,928\n",
            "              ReLU-4         [-1, 64, 256, 256]               0\n",
            "         MaxPool2d-5         [-1, 64, 128, 128]               0\n",
            "            Conv2d-6        [-1, 128, 128, 128]          73,856\n",
            "              ReLU-7        [-1, 128, 128, 128]               0\n",
            "            Conv2d-8        [-1, 128, 128, 128]         147,584\n",
            "              ReLU-9        [-1, 128, 128, 128]               0\n",
            "        MaxPool2d-10          [-1, 128, 64, 64]               0\n",
            "           Conv2d-11          [-1, 256, 64, 64]         295,168\n",
            "             ReLU-12          [-1, 256, 64, 64]               0\n",
            "           Conv2d-13          [-1, 256, 64, 64]         590,080\n",
            "             ReLU-14          [-1, 256, 64, 64]               0\n",
            "           Conv2d-15          [-1, 256, 64, 64]         590,080\n",
            "             ReLU-16          [-1, 256, 64, 64]               0\n",
            "           Conv2d-17          [-1, 256, 64, 64]         590,080\n",
            "             ReLU-18          [-1, 256, 64, 64]               0\n",
            "        MaxPool2d-19          [-1, 256, 32, 32]               0\n",
            "           Conv2d-20          [-1, 512, 32, 32]       1,180,160\n",
            "             ReLU-21          [-1, 512, 32, 32]               0\n",
            "           Conv2d-22          [-1, 512, 32, 32]       2,359,808\n",
            "             ReLU-23          [-1, 512, 32, 32]               0\n",
            "           Conv2d-24          [-1, 512, 32, 32]       2,359,808\n",
            "             ReLU-25          [-1, 512, 32, 32]               0\n",
            "           Conv2d-26          [-1, 512, 32, 32]       2,359,808\n",
            "             ReLU-27          [-1, 512, 32, 32]               0\n",
            "        MaxPool2d-28          [-1, 512, 16, 16]               0\n",
            "           Conv2d-29          [-1, 512, 16, 16]       2,359,808\n",
            "             ReLU-30          [-1, 512, 16, 16]               0\n",
            "           Conv2d-31          [-1, 512, 16, 16]       2,359,808\n",
            "             ReLU-32          [-1, 512, 16, 16]               0\n",
            "           Conv2d-33          [-1, 512, 16, 16]       2,359,808\n",
            "             ReLU-34          [-1, 512, 16, 16]               0\n",
            "           Conv2d-35          [-1, 512, 16, 16]       2,359,808\n",
            "             ReLU-36          [-1, 512, 16, 16]               0\n",
            "        MaxPool2d-37            [-1, 512, 8, 8]               0\n",
            "AdaptiveAvgPool2d-38            [-1, 512, 7, 7]               0\n",
            "           Linear-39                 [-1, 4096]     102,764,544\n",
            "             ReLU-40                 [-1, 4096]               0\n",
            "          Dropout-41                 [-1, 4096]               0\n",
            "           Linear-42                 [-1, 4096]      16,781,312\n",
            "             ReLU-43                 [-1, 4096]               0\n",
            "          Dropout-44                 [-1, 4096]               0\n",
            "           Linear-45                    [-1, 4]          16,388\n",
            "================================================================\n",
            "Total params: 139,586,628\n",
            "Trainable params: 139,586,628\n",
            "Non-trainable params: 0\n",
            "----------------------------------------------------------------\n",
            "Input size (MB): 0.75\n",
            "Forward/backward pass size (MB): 311.63\n",
            "Params size (MB): 532.48\n",
            "Estimated Total Size (MB): 844.86\n",
            "----------------------------------------------------------------\n"
          ]
        }
      ]
    },
    {
      "cell_type": "code",
      "source": [
        "classes = os.listdir('./Training/')"
      ],
      "metadata": {
        "id": "OfSCUCFu2tMX"
      },
      "execution_count": 9,
      "outputs": []
    }
  ]
}
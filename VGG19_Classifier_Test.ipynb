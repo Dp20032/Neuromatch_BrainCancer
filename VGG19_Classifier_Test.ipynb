{
  "nbformat": 4,
  "nbformat_minor": 0,
  "metadata": {
    "colab": {
      "provenance": [],
      "authorship_tag": "ABX9TyMvjD7qb0FKjbr1/7N2XCEn",
      "include_colab_link": true
    },
    "kernelspec": {
      "name": "python3",
      "display_name": "Python 3"
    },
    "language_info": {
      "name": "python"
    }
  },
  "cells": [
    {
      "cell_type": "markdown",
      "metadata": {
        "id": "view-in-github",
        "colab_type": "text"
      },
      "source": [
        "<a href=\"https://colab.research.google.com/github/NicholasLeotta99/Neuromatch_BrainCancer/blob/Nick/VGG19_Classifier_Test.ipynb\" target=\"_parent\"><img src=\"https://colab.research.google.com/assets/colab-badge.svg\" alt=\"Open In Colab\"/></a>"
      ]
    },
    {
      "cell_type": "code",
      "execution_count": 1,
      "metadata": {
        "id": "na7P0ewdyfg7",
        "cellView": "form"
      },
      "outputs": [],
      "source": [
        "# @title Package Imports\n",
        "import torch\n",
        "import numpy as np\n",
        "import matplotlib.pyplot as plt\n",
        "\n",
        "import torch.nn as nn\n",
        "import torch.optim as optim\n",
        "\n",
        "from torchvision.utils import make_grid\n",
        "import torchvision.transforms as transforms\n",
        "from torchvision.datasets import ImageFolder\n",
        "from torch.utils.data import DataLoader, TensorDataset\n",
        "import torchvision.models as models\n",
        "from torchsummary import summary\n",
        "\n",
        "\n",
        "from google.colab import files"
      ]
    },
    {
      "cell_type": "code",
      "source": [
        "# @title Data Loading\n",
        "print('Upload kaggle.json account information to download the dataset:')\n",
        "files.upload()\n",
        "!mkdir -p ~/.kaggle\n",
        "!mv kaggle.json ~/.kaggle/\n",
        "!chmod 600 /root/.kaggle/kaggle.json\n",
        "!kaggle datasets download -d masoudnickparvar/brain-tumor-mri-dataset\n",
        "!unzip -q brain-tumor-mri-dataset.zip"
      ],
      "metadata": {
        "id": "G6yDHTe5yqeZ",
        "cellView": "form"
      },
      "execution_count": null,
      "outputs": []
    },
    {
      "cell_type": "code",
      "source": [
        "# @title Loading Model\n",
        "Classifier = models.vgg19(weights='DEFAULT')\n",
        "summary(Classifier, (3, 256, 256))"
      ],
      "metadata": {
        "id": "YoHoOxXWrVyr",
        "cellView": "form"
      },
      "execution_count": null,
      "outputs": []
    }
  ]
}